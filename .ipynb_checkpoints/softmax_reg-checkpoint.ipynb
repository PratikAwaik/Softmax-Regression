{
 "cells": [
  {
   "cell_type": "code",
   "execution_count": 2,
   "metadata": {},
   "outputs": [],
   "source": [
    "from sklearn.model_selection import train_test_split\n",
    "import numpy as np\n",
    "\n",
    "# X = m x n\n",
    "# theta = n x k\n",
    "# score = softmax_function = m x k\n",
    "# y = m x 1\n",
    "\n",
    "class SoftmaxReg():\n",
    "    \"\"\"\n",
    "    eta = learning rate.\n",
    "    num_iters = \n",
    "    early_stopping = \n",
    "    \"\"\"\n",
    "    def __init__(self, eta=0.1, num_iters=1000, early_stopping=False, penalty=None, alpha=0.1):\n",
    "        self.eta = eta\n",
    "        self.num_iters = num_iters\n",
    "        self.early_stopping = early_stopping\n",
    "        self.penalty = penalty\n",
    "        self.alpha = alpha\n",
    "        self.best_theta = None\n",
    "        \n",
    "    def score(self, X, theta):\n",
    "        return X @ theta\n",
    "\n",
    "    def softmax_function(self, X, theta):\n",
    "        results = np.exp(self.score(X, theta)) / np.sum(np.exp(self.score(X, theta)), axis=1, keepdims=True)\n",
    "        return results\n",
    "\n",
    "    def cross_entropy(self, X, y, theta):\n",
    "        m = len(y)\n",
    "        J = - (1 / m) * np.sum(np.log(self.softmax_function(X, theta)).T @ y)\n",
    "        if self.penalty == \"l2\":\n",
    "            J += (self.alpha / 2) * np.sum(theta[1:] ** 2)\n",
    "        return J\n",
    "\n",
    "    def fit(self, X, y):\n",
    "        m, n = X.shape\n",
    "        X = np.c_[np.ones((m, 1)), X]\n",
    "        labels = len(np.unique(y))\n",
    "        new_y = np.zeros((m, labels))\n",
    "        y = y.reshape(-1, 1)\n",
    "        for label in range(labels):\n",
    "            new_y[:, label: label + 1] = (y == label).astype(np.int)\n",
    "        all_theta = np.zeros((n + 1, labels))\n",
    "        \n",
    "        if self.early_stopping:\n",
    "            X_train, X_val, y_train, y_val = train_test_split(X, new_y, test_size=0.2, random_state=2042)\n",
    "            best_theta = None\n",
    "            minimum_error = float(\"inf\")\n",
    "            for i in range(self.num_iters):\n",
    "                h = self.softmax_function(X_train, all_theta)\n",
    "                gradients = (1 / m) * (X_train.T @ (h - y_train))\n",
    "                if self.penalty == \"l2\":\n",
    "                    gradients[1:] += self.alpha * gradients[1:]\n",
    "                all_theta -= self.eta * gradients\n",
    "                val_cost = self.cross_entropy(X_val, y_val, all_theta)\n",
    "                if val_cost < minimum_error:\n",
    "                    minimum_error = val_cost\n",
    "                    best_theta = all_theta\n",
    "            self.best_theta = best_theta\n",
    "        else:\n",
    "            for i in range(self.num_iters):\n",
    "                h = self.softmax_function(X, all_theta)\n",
    "                gradients = (1 / m) * (X.T @ (h - new_y))\n",
    "                if self.penalty == \"l2\":\n",
    "                    gradients[1:] += (self.alpha) * all_theta[1:]\n",
    "                all_theta -= self.eta * gradients\n",
    "            self.best_theta = all_theta\n",
    "            return all_theta\n",
    "\n",
    "    def predict(self, X):\n",
    "        X = np.c_[np.ones((len(X), 1)), X]\n",
    "        opt_theta = self.best_theta\n",
    "        preds = np.argmax(self.softmax_function(X, opt_theta), axis=1)\n",
    "        return preds\n",
    "\n",
    "    def predict_proba(self, X):\n",
    "        X = np.c_[np.ones((len(X), 1)), X]\n",
    "        opt_theta = self.best_theta\n",
    "        return self.softmax_function(X, opt_theta)"
   ]
  },
  {
   "cell_type": "code",
   "execution_count": 2,
   "metadata": {},
   "outputs": [],
   "source": [
    "# testing the algorithm on iris datatset.\n",
    "\n",
    "from sklearn import datasets\n",
    "\n",
    "iris = datasets.load_iris()"
   ]
  },
  {
   "cell_type": "code",
   "execution_count": 3,
   "metadata": {},
   "outputs": [],
   "source": [
    "X = iris[\"data\"][:, (2, 3)]\n",
    "y = iris[\"target\"]"
   ]
  },
  {
   "cell_type": "code",
   "execution_count": 4,
   "metadata": {},
   "outputs": [
    {
     "data": {
      "text/plain": [
       "[<matplotlib.lines.Line2D at 0x20618d2c508>]"
      ]
     },
     "execution_count": 4,
     "metadata": {},
     "output_type": "execute_result"
    },
    {
     "data": {
      "image/png": "[encoded data removed]",
      "text/plain": [
       "<Figure size 720x360 with 1 Axes>"
      ]
     },
     "metadata": {
      "needs_background": "light"
     },
     "output_type": "display_data"
    }
   ],
   "source": [
    "import matplotlib.pyplot as plt\n",
    "%matplotlib inline\n",
    "\n",
    "plt.figure(figsize=(10, 5))\n",
    "plt.plot(X[y==2, 0], X[y==2, 1], \"g^\", label=\"Iris virginica\")\n",
    "plt.plot(X[y==1, 0], X[y==1, 1], \"bs\", label=\"Iris versicolor\")\n",
    "plt.plot(X[y==0, 0], X[y==0, 1], \"ro\", label=\"Iris setosa\")"
   ]
  },
  {
   "cell_type": "code",
   "execution_count": 5,
   "metadata": {},
   "outputs": [],
   "source": [
    "# splitting the data into train, test and validation set\n",
    "\n",
    "from sklearn.model_selection import train_test_split\n",
    "\n",
    "X_train, X_test, y_train, y_test = train_test_split(X, y, test_size=0.2, random_state=2042)\n",
    "X_tr, X_val, y_tr, y_val = train_test_split(X_train, y_train, test_size=0.2, random_state=2042)"
   ]
  },
  {
   "cell_type": "code",
   "execution_count": 6,
   "metadata": {},
   "outputs": [
    {
     "data": {
      "text/plain": [
       "array([[ 3.28601806, -0.6327808 , -2.65323726],\n",
       "       [-0.67212249,  0.44022965,  0.23189284],\n",
       "       [-1.48111525, -0.29865687,  1.77977212]])"
      ]
     },
     "execution_count": 6,
     "metadata": {},
     "output_type": "execute_result"
    }
   ],
   "source": [
    "#training the model\n",
    "\n",
    "soft_reg = SoftmaxReg(eta=0.01, num_iters=5001)\n",
    "soft_reg.fit(X_tr, y_tr)"
   ]
  },
  {
   "cell_type": "code",
   "execution_count": 7,
   "metadata": {},
   "outputs": [
    {
     "data": {
      "text/plain": [
       "0.9166666666666666"
      ]
     },
     "execution_count": 7,
     "metadata": {},
     "output_type": "execute_result"
    }
   ],
   "source": [
    "# predicting on the validation set\n",
    "\n",
    "val_preds = soft_reg.predict(X_val)\n",
    "np.mean(y_val == val_preds)"
   ]
  },
  {
   "cell_type": "code",
   "execution_count": 8,
   "metadata": {},
   "outputs": [
    {
     "data": {
      "text/plain": [
       "array([[ 4.15975054,  0.24963076, -4.4093813 ],\n",
       "       [-1.0645245 ,  0.14010709,  0.92441741],\n",
       "       [-0.44117573, -0.12420666,  0.56538239]])"
      ]
     },
     "execution_count": 8,
     "metadata": {},
     "output_type": "execute_result"
    }
   ],
   "source": [
    "# trying l2 regularization\n",
    "\n",
    "soft_reg_l2 = SoftmaxReg(eta=0.1, num_iters=5001, alpha=0.1, penalty=\"l2\")\n",
    "soft_reg_l2.fit(X_tr, y_tr)"
   ]
  },
  {
   "cell_type": "code",
   "execution_count": 9,
   "metadata": {},
   "outputs": [
    {
     "data": {
      "text/plain": [
       "0.9583333333333334"
      ]
     },
     "execution_count": 9,
     "metadata": {},
     "output_type": "execute_result"
    }
   ],
   "source": [
    "# predicting on validation set with l2 regularization.\n",
    "\n",
    "val_preds = soft_reg_l2.predict(X_val)\n",
    "np.mean((val_preds == y_val))"
   ]
  },
  {
   "cell_type": "code",
   "execution_count": 10,
   "metadata": {},
   "outputs": [],
   "source": [
    "# trying early stopping\n",
    "\n",
    "soft_reg_early_stop = SoftmaxReg(eta=0.1, num_iters=5001, alpha=0.1, penalty=\"l2\", early_stopping=True)\n",
    "soft_reg_early_stop.fit(X_train, y_train)"
   ]
  },
  {
   "cell_type": "code",
   "execution_count": 11,
   "metadata": {},
   "outputs": [
    {
     "data": {
      "text/plain": [
       "array([[ 7.44914565,  0.56615309, -8.01529874],\n",
       "       [-1.32424316,  0.50879031,  0.81545285],\n",
       "       [-3.51442638, -0.48283485,  3.99726123]])"
      ]
     },
     "execution_count": 11,
     "metadata": {},
     "output_type": "execute_result"
    }
   ],
   "source": [
    "soft_reg_early_stop.best_theta"
   ]
  },
  {
   "cell_type": "code",
   "execution_count": 12,
   "metadata": {},
   "outputs": [
    {
     "data": {
      "text/plain": [
       "0.9583333333333334"
      ]
     },
     "execution_count": 12,
     "metadata": {},
     "output_type": "execute_result"
    }
   ],
   "source": [
    "val_preds = soft_reg_early_stop.predict(X_val)\n",
    "np.mean(val_preds == y_val)"
   ]
  },
  {
   "cell_type": "code",
   "execution_count": 13,
   "metadata": {},
   "outputs": [
    {
     "data": {
      "text/plain": [
       "1.0"
      ]
     },
     "execution_count": 13,
     "metadata": {},
     "output_type": "execute_result"
    }
   ],
   "source": [
    "# predicting on test set\n",
    "\n",
    "test_preds = soft_reg_early_stop.predict(X_test)\n",
    "np.mean(test_preds == y_test)"
   ]
  },
  {
   "cell_type": "code",
   "execution_count": 14,
   "metadata": {},
   "outputs": [
    {
     "data": {
      "text/plain": [
       "array([[ 3.28242253, -0.53227727, -2.75014526],\n",
       "       [-0.70833316,  0.48699002,  0.22134314],\n",
       "       [-1.37695082, -0.4357481 ,  1.81269892]])"
      ]
     },
     "execution_count": 14,
     "metadata": {},
     "output_type": "execute_result"
    }
   ],
   "source": [
    "soft_reg = SoftmaxReg(eta=0.01, num_iters=5001)\n",
    "soft_reg.fit(X, y.reshape(-1, 1))"
   ]
  },
  {
   "cell_type": "code",
   "execution_count": 15,
   "metadata": {},
   "outputs": [
    {
     "data": {
      "text/plain": [
       "<matplotlib.contour.QuadContourSet at 0x20618e08908>"
      ]
     },
     "execution_count": 15,
     "metadata": {},
     "output_type": "execute_result"
    },
    {
     "data": {
      "image/png": "[encoded data removed]",
      "text/plain": [
       "<Figure size 720x288 with 1 Axes>"
      ]
     },
     "metadata": {
      "needs_background": "light"
     },
     "output_type": "display_data"
    }
   ],
   "source": [
    "x0, x1 = np.meshgrid(\n",
    "    np.linspace(X[:, 0].min(), X[:, 0].max()),\n",
    "    np.linspace(X[:, 1].min(), X[:, 1].max())\n",
    ")\n",
    "\n",
    "x_new = np.c_[x0.ravel(), x1.ravel()]\n",
    "preds = soft_reg_early_stop.predict(x_new)\n",
    "zz = preds.reshape(x0.shape)\n",
    "\n",
    "import matplotlib.pyplot as plt\n",
    "\n",
    "plt.figure(figsize=(10, 4))\n",
    "plt.plot(X[y==2, 0], X[y==2, 1], \"g^\", label=\"Iris virginica\")\n",
    "plt.plot(X[y==1, 0], X[y==1, 1], \"bs\", label=\"Iris versicolor\")\n",
    "plt.plot(X[y==0, 0], X[y==0, 1], \"ro\", label=\"Iris setosa\")\n",
    "plt.legend(loc=\"upper left\")\n",
    "plt.xlabel(\"petal length\")\n",
    "plt.ylabel(\"petal width\")\n",
    "\n",
    "plt.contourf(x0, x1, zz)"
   ]
  },
  {
   "cell_type": "code",
   "execution_count": null,
   "metadata": {},
   "outputs": [],
   "source": []
  }
 ],
 "metadata": {
  "kernelspec": {
   "display_name": "Python 3",
   "language": "python",
   "name": "python3"
  },
  "language_info": {
   "codemirror_mode": {
    "name": "ipython",
    "version": 3
   },
   "file_extension": ".py",
   "mimetype": "text/x-python",
   "name": "python",
   "nbconvert_exporter": "python",
   "pygments_lexer": "ipython3",
   "version": "3.7.6"
  }
 },
 "nbformat": 4,
 "nbformat_minor": 4
}
